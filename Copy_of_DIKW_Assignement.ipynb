{
  "nbformat": 4,
  "nbformat_minor": 0,
  "metadata": {
    "colab": {
      "provenance": [],
      "authorship_tag": "ABX9TyN6qWWHZ9J59UOrr/GwiQVT",
      "include_colab_link": true
    },
    "kernelspec": {
      "name": "python3",
      "display_name": "Python 3"
    },
    "language_info": {
      "name": "python"
    }
  },
  "cells": [
    {
      "cell_type": "markdown",
      "metadata": {
        "id": "view-in-github",
        "colab_type": "text"
      },
      "source": [
        "<a href=\"https://colab.research.google.com/github/musajalili/Advanced-Data-Analytics/blob/main/Copy_of_DIKW_Assignement.ipynb\" target=\"_parent\"><img src=\"https://colab.research.google.com/assets/colab-badge.svg\" alt=\"Open In Colab\"/></a>"
      ]
    },
    {
      "cell_type": "markdown",
      "source": [
        "# **Employee Performance Analysis Using DIKW Framework**\n",
        "\n",
        "**Author: Musa Jalili**  \n",
        "**Submitted To: Sir Alham Hotaki**\n",
        "\n",
        "**Subject:Advanced Data Analytics**\n",
        "\n",
        "**DIKW Assignement**\n",
        "\n",
        "**Date: 01/11/2024**\n",
        "\n",
        "https://github.com/musajalili/Advanced-Data-Analytics\n",
        "\n",
        "---\n",
        "\n",
        "## **Objective**\n",
        "\n",
        "The purpose of this assignment is to use the DIKW (Data-Information-Knowledge-Wisdom) framework to analyze an employee performance dataset, derive insights, and suggest recommendations for improving employee satisfaction and performance.\n",
        "\n",
        "---"
      ],
      "metadata": {
        "id": "qgqde5XEzfaV"
      }
    },
    {
      "cell_type": "markdown",
      "source": [
        "# **Step 1: Import Libraries and Load Data**"
      ],
      "metadata": {
        "id": "fomAvQbtE6RS"
      }
    },
    {
      "cell_type": "code",
      "execution_count": null,
      "metadata": {
        "id": "Yq9U6WZOxWbk"
      },
      "outputs": [],
      "source": [
        "import pandas as pd\n",
        "import matplotlib.pyplot as plt\n",
        "import seaborn as sns\n",
        "\n",
        "data = {\n",
        "    'EmployeeID': ['E001', 'E002', 'E003', 'E004', 'E005'],\n",
        "    'EmployeeName': ['James Wilson', 'Maria Garcia', 'Robert Brown', 'Emily Davis', 'Michael Johnson'],\n",
        "    'Department': ['Sales', 'Engineering', 'HR', 'Engineering', 'Marketing'],\n",
        "    'JoiningDate': ['2022-01-15', '2021-03-12', '2020-06-23', '2021-11-05', '2022-05-20'],\n",
        "    'Salary': [50000, 75000, 60000, 72000, 65000],\n",
        "    'Gender': ['Male', 'Female', 'Male', 'Female', 'Male'],\n",
        "    'Country': ['USA', 'UK', 'Canada', 'USA', 'Australia'],\n",
        "    'PerformanceScore': [85, 92, 88, 79, 83],\n",
        "    'JobSatisfaction': [4, 5, 4, 3, 4]\n",
        "}\n",
        "\n",
        "df = pd.DataFrame(data)"
      ]
    },
    {
      "cell_type": "code",
      "source": [
        "# Display the rows to understand data structure\n",
        "df"
      ],
      "metadata": {
        "id": "4CnevZpXFQdq",
        "colab": {
          "base_uri": "https://localhost:8080/",
          "height": 206
        },
        "outputId": "6c49be81-3b2f-461b-a5f3-eafb406bf005"
      },
      "execution_count": null,
      "outputs": [
        {
          "output_type": "execute_result",
          "data": {
            "text/plain": [
              "  EmployeeID     EmployeeName   Department JoiningDate  Salary  Gender  \\\n",
              "0       E001     James Wilson        Sales  2022-01-15   50000    Male   \n",
              "1       E002     Maria Garcia  Engineering  2021-03-12   75000  Female   \n",
              "2       E003     Robert Brown           HR  2020-06-23   60000    Male   \n",
              "3       E004      Emily Davis  Engineering  2021-11-05   72000  Female   \n",
              "4       E005  Michael Johnson    Marketing  2022-05-20   65000    Male   \n",
              "\n",
              "     Country  PerformanceScore  JobSatisfaction  \n",
              "0        USA                85                4  \n",
              "1         UK                92                5  \n",
              "2     Canada                88                4  \n",
              "3        USA                79                3  \n",
              "4  Australia                83                4  "
            ],
            "text/html": [
              "\n",
              "  <div id=\"df-86efd464-00be-4bc6-92c3-ba1e53f67c82\" class=\"colab-df-container\">\n",
              "    <div>\n",
              "<style scoped>\n",
              "    .dataframe tbody tr th:only-of-type {\n",
              "        vertical-align: middle;\n",
              "    }\n",
              "\n",
              "    .dataframe tbody tr th {\n",
              "        vertical-align: top;\n",
              "    }\n",
              "\n",
              "    .dataframe thead th {\n",
              "        text-align: right;\n",
              "    }\n",
              "</style>\n",
              "<table border=\"1\" class=\"dataframe\">\n",
              "  <thead>\n",
              "    <tr style=\"text-align: right;\">\n",
              "      <th></th>\n",
              "      <th>EmployeeID</th>\n",
              "      <th>EmployeeName</th>\n",
              "      <th>Department</th>\n",
              "      <th>JoiningDate</th>\n",
              "      <th>Salary</th>\n",
              "      <th>Gender</th>\n",
              "      <th>Country</th>\n",
              "      <th>PerformanceScore</th>\n",
              "      <th>JobSatisfaction</th>\n",
              "    </tr>\n",
              "  </thead>\n",
              "  <tbody>\n",
              "    <tr>\n",
              "      <th>0</th>\n",
              "      <td>E001</td>\n",
              "      <td>James Wilson</td>\n",
              "      <td>Sales</td>\n",
              "      <td>2022-01-15</td>\n",
              "      <td>50000</td>\n",
              "      <td>Male</td>\n",
              "      <td>USA</td>\n",
              "      <td>85</td>\n",
              "      <td>4</td>\n",
              "    </tr>\n",
              "    <tr>\n",
              "      <th>1</th>\n",
              "      <td>E002</td>\n",
              "      <td>Maria Garcia</td>\n",
              "      <td>Engineering</td>\n",
              "      <td>2021-03-12</td>\n",
              "      <td>75000</td>\n",
              "      <td>Female</td>\n",
              "      <td>UK</td>\n",
              "      <td>92</td>\n",
              "      <td>5</td>\n",
              "    </tr>\n",
              "    <tr>\n",
              "      <th>2</th>\n",
              "      <td>E003</td>\n",
              "      <td>Robert Brown</td>\n",
              "      <td>HR</td>\n",
              "      <td>2020-06-23</td>\n",
              "      <td>60000</td>\n",
              "      <td>Male</td>\n",
              "      <td>Canada</td>\n",
              "      <td>88</td>\n",
              "      <td>4</td>\n",
              "    </tr>\n",
              "    <tr>\n",
              "      <th>3</th>\n",
              "      <td>E004</td>\n",
              "      <td>Emily Davis</td>\n",
              "      <td>Engineering</td>\n",
              "      <td>2021-11-05</td>\n",
              "      <td>72000</td>\n",
              "      <td>Female</td>\n",
              "      <td>USA</td>\n",
              "      <td>79</td>\n",
              "      <td>3</td>\n",
              "    </tr>\n",
              "    <tr>\n",
              "      <th>4</th>\n",
              "      <td>E005</td>\n",
              "      <td>Michael Johnson</td>\n",
              "      <td>Marketing</td>\n",
              "      <td>2022-05-20</td>\n",
              "      <td>65000</td>\n",
              "      <td>Male</td>\n",
              "      <td>Australia</td>\n",
              "      <td>83</td>\n",
              "      <td>4</td>\n",
              "    </tr>\n",
              "  </tbody>\n",
              "</table>\n",
              "</div>\n",
              "    <div class=\"colab-df-buttons\">\n",
              "\n",
              "  <div class=\"colab-df-container\">\n",
              "    <button class=\"colab-df-convert\" onclick=\"convertToInteractive('df-86efd464-00be-4bc6-92c3-ba1e53f67c82')\"\n",
              "            title=\"Convert this dataframe to an interactive table.\"\n",
              "            style=\"display:none;\">\n",
              "\n",
              "  <svg xmlns=\"http://www.w3.org/2000/svg\" height=\"24px\" viewBox=\"0 -960 960 960\">\n",
              "    <path d=\"M120-120v-720h720v720H120Zm60-500h600v-160H180v160Zm220 220h160v-160H400v160Zm0 220h160v-160H400v160ZM180-400h160v-160H180v160Zm440 0h160v-160H620v160ZM180-180h160v-160H180v160Zm440 0h160v-160H620v160Z\"/>\n",
              "  </svg>\n",
              "    </button>\n",
              "\n",
              "  <style>\n",
              "    .colab-df-container {\n",
              "      display:flex;\n",
              "      gap: 12px;\n",
              "    }\n",
              "\n",
              "    .colab-df-convert {\n",
              "      background-color: #E8F0FE;\n",
              "      border: none;\n",
              "      border-radius: 50%;\n",
              "      cursor: pointer;\n",
              "      display: none;\n",
              "      fill: #1967D2;\n",
              "      height: 32px;\n",
              "      padding: 0 0 0 0;\n",
              "      width: 32px;\n",
              "    }\n",
              "\n",
              "    .colab-df-convert:hover {\n",
              "      background-color: #E2EBFA;\n",
              "      box-shadow: 0px 1px 2px rgba(60, 64, 67, 0.3), 0px 1px 3px 1px rgba(60, 64, 67, 0.15);\n",
              "      fill: #174EA6;\n",
              "    }\n",
              "\n",
              "    .colab-df-buttons div {\n",
              "      margin-bottom: 4px;\n",
              "    }\n",
              "\n",
              "    [theme=dark] .colab-df-convert {\n",
              "      background-color: #3B4455;\n",
              "      fill: #D2E3FC;\n",
              "    }\n",
              "\n",
              "    [theme=dark] .colab-df-convert:hover {\n",
              "      background-color: #434B5C;\n",
              "      box-shadow: 0px 1px 3px 1px rgba(0, 0, 0, 0.15);\n",
              "      filter: drop-shadow(0px 1px 2px rgba(0, 0, 0, 0.3));\n",
              "      fill: #FFFFFF;\n",
              "    }\n",
              "  </style>\n",
              "\n",
              "    <script>\n",
              "      const buttonEl =\n",
              "        document.querySelector('#df-86efd464-00be-4bc6-92c3-ba1e53f67c82 button.colab-df-convert');\n",
              "      buttonEl.style.display =\n",
              "        google.colab.kernel.accessAllowed ? 'block' : 'none';\n",
              "\n",
              "      async function convertToInteractive(key) {\n",
              "        const element = document.querySelector('#df-86efd464-00be-4bc6-92c3-ba1e53f67c82');\n",
              "        const dataTable =\n",
              "          await google.colab.kernel.invokeFunction('convertToInteractive',\n",
              "                                                    [key], {});\n",
              "        if (!dataTable) return;\n",
              "\n",
              "        const docLinkHtml = 'Like what you see? Visit the ' +\n",
              "          '<a target=\"_blank\" href=https://colab.research.google.com/notebooks/data_table.ipynb>data table notebook</a>'\n",
              "          + ' to learn more about interactive tables.';\n",
              "        element.innerHTML = '';\n",
              "        dataTable['output_type'] = 'display_data';\n",
              "        await google.colab.output.renderOutput(dataTable, element);\n",
              "        const docLink = document.createElement('div');\n",
              "        docLink.innerHTML = docLinkHtml;\n",
              "        element.appendChild(docLink);\n",
              "      }\n",
              "    </script>\n",
              "  </div>\n",
              "\n",
              "\n",
              "<div id=\"df-b9bf1f25-2296-473e-868e-8fa1e234a731\">\n",
              "  <button class=\"colab-df-quickchart\" onclick=\"quickchart('df-b9bf1f25-2296-473e-868e-8fa1e234a731')\"\n",
              "            title=\"Suggest charts\"\n",
              "            style=\"display:none;\">\n",
              "\n",
              "<svg xmlns=\"http://www.w3.org/2000/svg\" height=\"24px\"viewBox=\"0 0 24 24\"\n",
              "     width=\"24px\">\n",
              "    <g>\n",
              "        <path d=\"M19 3H5c-1.1 0-2 .9-2 2v14c0 1.1.9 2 2 2h14c1.1 0 2-.9 2-2V5c0-1.1-.9-2-2-2zM9 17H7v-7h2v7zm4 0h-2V7h2v10zm4 0h-2v-4h2v4z\"/>\n",
              "    </g>\n",
              "</svg>\n",
              "  </button>\n",
              "\n",
              "<style>\n",
              "  .colab-df-quickchart {\n",
              "      --bg-color: #E8F0FE;\n",
              "      --fill-color: #1967D2;\n",
              "      --hover-bg-color: #E2EBFA;\n",
              "      --hover-fill-color: #174EA6;\n",
              "      --disabled-fill-color: #AAA;\n",
              "      --disabled-bg-color: #DDD;\n",
              "  }\n",
              "\n",
              "  [theme=dark] .colab-df-quickchart {\n",
              "      --bg-color: #3B4455;\n",
              "      --fill-color: #D2E3FC;\n",
              "      --hover-bg-color: #434B5C;\n",
              "      --hover-fill-color: #FFFFFF;\n",
              "      --disabled-bg-color: #3B4455;\n",
              "      --disabled-fill-color: #666;\n",
              "  }\n",
              "\n",
              "  .colab-df-quickchart {\n",
              "    background-color: var(--bg-color);\n",
              "    border: none;\n",
              "    border-radius: 50%;\n",
              "    cursor: pointer;\n",
              "    display: none;\n",
              "    fill: var(--fill-color);\n",
              "    height: 32px;\n",
              "    padding: 0;\n",
              "    width: 32px;\n",
              "  }\n",
              "\n",
              "  .colab-df-quickchart:hover {\n",
              "    background-color: var(--hover-bg-color);\n",
              "    box-shadow: 0 1px 2px rgba(60, 64, 67, 0.3), 0 1px 3px 1px rgba(60, 64, 67, 0.15);\n",
              "    fill: var(--button-hover-fill-color);\n",
              "  }\n",
              "\n",
              "  .colab-df-quickchart-complete:disabled,\n",
              "  .colab-df-quickchart-complete:disabled:hover {\n",
              "    background-color: var(--disabled-bg-color);\n",
              "    fill: var(--disabled-fill-color);\n",
              "    box-shadow: none;\n",
              "  }\n",
              "\n",
              "  .colab-df-spinner {\n",
              "    border: 2px solid var(--fill-color);\n",
              "    border-color: transparent;\n",
              "    border-bottom-color: var(--fill-color);\n",
              "    animation:\n",
              "      spin 1s steps(1) infinite;\n",
              "  }\n",
              "\n",
              "  @keyframes spin {\n",
              "    0% {\n",
              "      border-color: transparent;\n",
              "      border-bottom-color: var(--fill-color);\n",
              "      border-left-color: var(--fill-color);\n",
              "    }\n",
              "    20% {\n",
              "      border-color: transparent;\n",
              "      border-left-color: var(--fill-color);\n",
              "      border-top-color: var(--fill-color);\n",
              "    }\n",
              "    30% {\n",
              "      border-color: transparent;\n",
              "      border-left-color: var(--fill-color);\n",
              "      border-top-color: var(--fill-color);\n",
              "      border-right-color: var(--fill-color);\n",
              "    }\n",
              "    40% {\n",
              "      border-color: transparent;\n",
              "      border-right-color: var(--fill-color);\n",
              "      border-top-color: var(--fill-color);\n",
              "    }\n",
              "    60% {\n",
              "      border-color: transparent;\n",
              "      border-right-color: var(--fill-color);\n",
              "    }\n",
              "    80% {\n",
              "      border-color: transparent;\n",
              "      border-right-color: var(--fill-color);\n",
              "      border-bottom-color: var(--fill-color);\n",
              "    }\n",
              "    90% {\n",
              "      border-color: transparent;\n",
              "      border-bottom-color: var(--fill-color);\n",
              "    }\n",
              "  }\n",
              "</style>\n",
              "\n",
              "  <script>\n",
              "    async function quickchart(key) {\n",
              "      const quickchartButtonEl =\n",
              "        document.querySelector('#' + key + ' button');\n",
              "      quickchartButtonEl.disabled = true;  // To prevent multiple clicks.\n",
              "      quickchartButtonEl.classList.add('colab-df-spinner');\n",
              "      try {\n",
              "        const charts = await google.colab.kernel.invokeFunction(\n",
              "            'suggestCharts', [key], {});\n",
              "      } catch (error) {\n",
              "        console.error('Error during call to suggestCharts:', error);\n",
              "      }\n",
              "      quickchartButtonEl.classList.remove('colab-df-spinner');\n",
              "      quickchartButtonEl.classList.add('colab-df-quickchart-complete');\n",
              "    }\n",
              "    (() => {\n",
              "      let quickchartButtonEl =\n",
              "        document.querySelector('#df-b9bf1f25-2296-473e-868e-8fa1e234a731 button');\n",
              "      quickchartButtonEl.style.display =\n",
              "        google.colab.kernel.accessAllowed ? 'block' : 'none';\n",
              "    })();\n",
              "  </script>\n",
              "</div>\n",
              "\n",
              "  <div id=\"id_ee0740e9-4f0a-4571-976f-48b2413ec045\">\n",
              "    <style>\n",
              "      .colab-df-generate {\n",
              "        background-color: #E8F0FE;\n",
              "        border: none;\n",
              "        border-radius: 50%;\n",
              "        cursor: pointer;\n",
              "        display: none;\n",
              "        fill: #1967D2;\n",
              "        height: 32px;\n",
              "        padding: 0 0 0 0;\n",
              "        width: 32px;\n",
              "      }\n",
              "\n",
              "      .colab-df-generate:hover {\n",
              "        background-color: #E2EBFA;\n",
              "        box-shadow: 0px 1px 2px rgba(60, 64, 67, 0.3), 0px 1px 3px 1px rgba(60, 64, 67, 0.15);\n",
              "        fill: #174EA6;\n",
              "      }\n",
              "\n",
              "      [theme=dark] .colab-df-generate {\n",
              "        background-color: #3B4455;\n",
              "        fill: #D2E3FC;\n",
              "      }\n",
              "\n",
              "      [theme=dark] .colab-df-generate:hover {\n",
              "        background-color: #434B5C;\n",
              "        box-shadow: 0px 1px 3px 1px rgba(0, 0, 0, 0.15);\n",
              "        filter: drop-shadow(0px 1px 2px rgba(0, 0, 0, 0.3));\n",
              "        fill: #FFFFFF;\n",
              "      }\n",
              "    </style>\n",
              "    <button class=\"colab-df-generate\" onclick=\"generateWithVariable('df')\"\n",
              "            title=\"Generate code using this dataframe.\"\n",
              "            style=\"display:none;\">\n",
              "\n",
              "  <svg xmlns=\"http://www.w3.org/2000/svg\" height=\"24px\"viewBox=\"0 0 24 24\"\n",
              "       width=\"24px\">\n",
              "    <path d=\"M7,19H8.4L18.45,9,17,7.55,7,17.6ZM5,21V16.75L18.45,3.32a2,2,0,0,1,2.83,0l1.4,1.43a1.91,1.91,0,0,1,.58,1.4,1.91,1.91,0,0,1-.58,1.4L9.25,21ZM18.45,9,17,7.55Zm-12,3A5.31,5.31,0,0,0,4.9,8.1,5.31,5.31,0,0,0,1,6.5,5.31,5.31,0,0,0,4.9,4.9,5.31,5.31,0,0,0,6.5,1,5.31,5.31,0,0,0,8.1,4.9,5.31,5.31,0,0,0,12,6.5,5.46,5.46,0,0,0,6.5,12Z\"/>\n",
              "  </svg>\n",
              "    </button>\n",
              "    <script>\n",
              "      (() => {\n",
              "      const buttonEl =\n",
              "        document.querySelector('#id_ee0740e9-4f0a-4571-976f-48b2413ec045 button.colab-df-generate');\n",
              "      buttonEl.style.display =\n",
              "        google.colab.kernel.accessAllowed ? 'block' : 'none';\n",
              "\n",
              "      buttonEl.onclick = () => {\n",
              "        google.colab.notebook.generateWithVariable('df');\n",
              "      }\n",
              "      })();\n",
              "    </script>\n",
              "  </div>\n",
              "\n",
              "    </div>\n",
              "  </div>\n"
            ],
            "application/vnd.google.colaboratory.intrinsic+json": {
              "type": "dataframe",
              "variable_name": "df",
              "summary": "{\n  \"name\": \"df\",\n  \"rows\": 5,\n  \"fields\": [\n    {\n      \"column\": \"EmployeeID\",\n      \"properties\": {\n        \"dtype\": \"string\",\n        \"num_unique_values\": 5,\n        \"samples\": [\n          \"E002\",\n          \"E005\",\n          \"E003\"\n        ],\n        \"semantic_type\": \"\",\n        \"description\": \"\"\n      }\n    },\n    {\n      \"column\": \"EmployeeName\",\n      \"properties\": {\n        \"dtype\": \"string\",\n        \"num_unique_values\": 5,\n        \"samples\": [\n          \"Maria Garcia\",\n          \"Michael Johnson\",\n          \"Robert Brown\"\n        ],\n        \"semantic_type\": \"\",\n        \"description\": \"\"\n      }\n    },\n    {\n      \"column\": \"Department\",\n      \"properties\": {\n        \"dtype\": \"string\",\n        \"num_unique_values\": 4,\n        \"samples\": [\n          \"Engineering\",\n          \"Marketing\",\n          \"Sales\"\n        ],\n        \"semantic_type\": \"\",\n        \"description\": \"\"\n      }\n    },\n    {\n      \"column\": \"JoiningDate\",\n      \"properties\": {\n        \"dtype\": \"object\",\n        \"num_unique_values\": 5,\n        \"samples\": [\n          \"2021-03-12\",\n          \"2022-05-20\",\n          \"2020-06-23\"\n        ],\n        \"semantic_type\": \"\",\n        \"description\": \"\"\n      }\n    },\n    {\n      \"column\": \"Salary\",\n      \"properties\": {\n        \"dtype\": \"number\",\n        \"std\": 9964,\n        \"min\": 50000,\n        \"max\": 75000,\n        \"num_unique_values\": 5,\n        \"samples\": [\n          75000,\n          65000,\n          60000\n        ],\n        \"semantic_type\": \"\",\n        \"description\": \"\"\n      }\n    },\n    {\n      \"column\": \"Gender\",\n      \"properties\": {\n        \"dtype\": \"category\",\n        \"num_unique_values\": 2,\n        \"samples\": [\n          \"Female\",\n          \"Male\"\n        ],\n        \"semantic_type\": \"\",\n        \"description\": \"\"\n      }\n    },\n    {\n      \"column\": \"Country\",\n      \"properties\": {\n        \"dtype\": \"string\",\n        \"num_unique_values\": 4,\n        \"samples\": [\n          \"UK\",\n          \"Australia\"\n        ],\n        \"semantic_type\": \"\",\n        \"description\": \"\"\n      }\n    },\n    {\n      \"column\": \"PerformanceScore\",\n      \"properties\": {\n        \"dtype\": \"number\",\n        \"std\": 4,\n        \"min\": 79,\n        \"max\": 92,\n        \"num_unique_values\": 5,\n        \"samples\": [\n          92,\n          83\n        ],\n        \"semantic_type\": \"\",\n        \"description\": \"\"\n      }\n    },\n    {\n      \"column\": \"JobSatisfaction\",\n      \"properties\": {\n        \"dtype\": \"number\",\n        \"std\": 0,\n        \"min\": 3,\n        \"max\": 5,\n        \"num_unique_values\": 3,\n        \"samples\": [\n          4,\n          5\n        ],\n        \"semantic_type\": \"\",\n        \"description\": \"\"\n      }\n    }\n  ]\n}"
            }
          },
          "metadata": {},
          "execution_count": 3
        }
      ]
    },
    {
      "cell_type": "markdown",
      "source": [
        "# **Section 1: Data**\n",
        "## Types of Data\n",
        "\n",
        "### **Categorical:** *Department, Gender, Country*\n",
        "### **Numerical:** *Salary, PerformanceScore, JobSatisfaction*\n",
        "### **Date:** *JoiningDate*\n",
        "### **Unique Identifier:** *EmployeeID*\n",
        "---\n",
        "#**Some examples of raw data from the dataset**\n",
        "## EmployeeID: E001, E002, E003, E004, E005\n",
        "## EmployeeName: James Wilson, Maria Garcia, Robert Brown, Emily Davis, Michael Johnson\n",
        "## Department: Sales, Engineering, HR, Engineering, Marketing\n"
      ],
      "metadata": {
        "id": "jwvrAz1103b0"
      }
    },
    {
      "cell_type": "markdown",
      "source": [
        "# **Section 2: Information**\n",
        "## Calculate and Summarize Key Insights"
      ],
      "metadata": {
        "id": "J8EE9Zl91Ses"
      }
    },
    {
      "cell_type": "code",
      "source": [
        "# Calculate Average Salary by Department\n",
        "\n",
        "# Group the dataset by 'Department' and calculate the mean salary for each group\n",
        "avg_salary = df.groupby('Department')['Salary'].mean()\n",
        "\n",
        "# Print the results with a clear heading and formatted output\n",
        "print(\"=== Average Salary by Department ===\")\n",
        "print(avg_salary.to_string(index=True))  # Using to_string() to align output neatly\n"
      ],
      "metadata": {
        "colab": {
          "base_uri": "https://localhost:8080/"
        },
        "id": "rGPj7W3WIxXv",
        "outputId": "dc49f979-64c6-485e-fe32-df03b973d337"
      },
      "execution_count": null,
      "outputs": [
        {
          "output_type": "stream",
          "name": "stdout",
          "text": [
            "=== Average Salary by Department ===\n",
            "Department\n",
            "Engineering    73500.0\n",
            "HR             60000.0\n",
            "Marketing      65000.0\n",
            "Sales          50000.0\n"
          ]
        }
      ]
    },
    {
      "cell_type": "code",
      "source": [
        "# Count of employees by country\n",
        "country_count = df['Country'].value_counts()\n",
        "print(\"Employee Count by Country:\\n\", country_count.to_string())\n",
        "\n"
      ],
      "metadata": {
        "colab": {
          "base_uri": "https://localhost:8080/"
        },
        "id": "jMwk0zOw1gwD",
        "outputId": "fc880cca-0238-45f8-eeb5-f0405512c58c"
      },
      "execution_count": null,
      "outputs": [
        {
          "output_type": "stream",
          "name": "stdout",
          "text": [
            "Employee Count by Country:\n",
            " Country\n",
            "USA          2\n",
            "UK           1\n",
            "Canada       1\n",
            "Australia    1\n"
          ]
        }
      ]
    },
    {
      "cell_type": "code",
      "source": [
        "# Calculate the average performance score\n",
        "avg_performance = df['PerformanceScore'].mean()\n",
        "print(\"Average Performance Score for All Employees:\", avg_performance)\n"
      ],
      "metadata": {
        "colab": {
          "base_uri": "https://localhost:8080/"
        },
        "id": "5SMB1R2W1ylQ",
        "outputId": "3d2498d0-baec-4fa7-ef73-157ab48202d6"
      },
      "execution_count": null,
      "outputs": [
        {
          "output_type": "stream",
          "name": "stdout",
          "text": [
            "Average Performance Score for All Employees: 85.4\n"
          ]
        }
      ]
    },
    {
      "cell_type": "markdown",
      "source": [
        "## Summary of Findings\n",
        "\n",
        "1. **Average Salary by Department:**\n",
        "   - The average salary in the **Sales** department is `$50,000`.\n",
        "   - The average salary in the **Engineering** department is `$73,500`.\n",
        "   - The average salary in the **HR** department is `$60,000`.\n",
        "   - The average salary in the **Marketing** department is `$65,000`.\n",
        "---\n",
        "2. **Employee Count by Country:**\n",
        "   - The number of employees in the **USA** is `2`.\n",
        "   - The number of employees in the **UK** is `1`.\n",
        "   - The number of employees in **Canada** is `1`.\n",
        "   - The number of employees in **Australia** is `1`.\n",
        "---\n",
        "3. **Average Performance Score for All Employees:**\n",
        "   - The average performance score for all employees is `85.4`.\n"
      ],
      "metadata": {
        "id": "sOE6VdtbLYiV"
      }
    },
    {
      "cell_type": "markdown",
      "source": [
        "# **Section 3: Knowledge**\n"
      ],
      "metadata": {
        "id": "ezJO2CVV189C"
      }
    },
    {
      "cell_type": "markdown",
      "source": [
        "# Department with Highest Performance Score"
      ],
      "metadata": {
        "id": "biZIFTFRGsu-"
      }
    },
    {
      "source": [
        "highest_performance = df.groupby('Department')['PerformanceScore'].mean()\n",
        "# Identify the department with the highest average performance score\n",
        "highest_performance_department = highest_performance.idxmax() # Changed average_performance to highest_performance\n",
        "highest_performance_score =  highest_performance.max()       # Changed average_performance_by_department to highest_performance\n",
        "print(f\"The department with the highest average performance score is '{highest_performance_department}' with a score of {highest_performance_score:.2f}.\")"
      ],
      "cell_type": "code",
      "metadata": {
        "colab": {
          "base_uri": "https://localhost:8080/"
        },
        "id": "gc9XFTAMASSZ",
        "outputId": "55ee5a8b-5008-404e-bdf3-96cc38021672"
      },
      "execution_count": null,
      "outputs": [
        {
          "output_type": "stream",
          "name": "stdout",
          "text": [
            "The department with the highest average performance score is 'HR' with a score of 88.00.\n"
          ]
        }
      ]
    },
    {
      "cell_type": "markdown",
      "source": [
        "# Country with the highest average job satisfaction"
      ],
      "metadata": {
        "id": "jDXEsYw3Gzbj"
      }
    },
    {
      "cell_type": "code",
      "source": [
        "# Calculate the average job satisfaction score by country\n",
        "average_job_satisfaction_by_country = df.groupby('Country')['JobSatisfaction'].mean()\n",
        "\n",
        "# Identify the country with the highest average job satisfaction score\n",
        "highest_satisfaction_country = average_job_satisfaction_by_country.idxmax()\n",
        "highest_satisfaction_score = average_job_satisfaction_by_country.max()\n",
        "\n",
        "print(f\"The country with the most satisfied employees is '{highest_satisfaction_country}' with an average job satisfaction score of {highest_satisfaction_score:.2f}.\")"
      ],
      "metadata": {
        "colab": {
          "base_uri": "https://localhost:8080/"
        },
        "id": "J6B62gRa2FPN",
        "outputId": "91d442f2-0d18-436c-91d2-ec0b7f779bac"
      },
      "execution_count": null,
      "outputs": [
        {
          "output_type": "stream",
          "name": "stdout",
          "text": [
            "The country with the most satisfied employees is 'UK' with an average job satisfaction score of 5.00.\n"
          ]
        }
      ]
    },
    {
      "cell_type": "markdown",
      "source": [
        "# Summary of Insights\n",
        "\n",
        "## 1. Department with the Highest Average Performance Score\n",
        "- **Department:** HR\n",
        "- **Average Performance Score:** 88.0\n",
        "\n",
        "### Possible Reasons for High Performance:\n",
        "- Effective leadership and supportive work environment.\n",
        "- Strong interpersonal skills contributing to a positive culture.\n",
        "- Targeted training and development programs enhancing skills and performance.\n",
        "---\n",
        "## 2. Country with the Most Satisfied Employees\n",
        "- **Country:** UK\n",
        "- **Average Job Satisfaction Score:** 5.0\n",
        "\n",
        "### Possible Reasons for High Job Satisfaction:\n",
        "- Strong organizational support, including flexible working arrangements.\n",
        "- Emphasis on work-life balance and job security.\n",
        "- Effective communication channels and opportunities for employee feedback.\n"
      ],
      "metadata": {
        "id": "lp4y24RKO97O"
      }
    },
    {
      "cell_type": "markdown",
      "source": [
        "#Section 4: Applying Wisdom for Decision-Making in HR"
      ],
      "metadata": {
        "id": "YXA8-hindJ73"
      }
    },
    {
      "cell_type": "code",
      "source": [
        "# Calculate average salaries by gender\n",
        "average_salary_by_gender = df.groupby('Gender')['Salary'].mean()\n",
        "print(average_salary_by_gender)\n"
      ],
      "metadata": {
        "colab": {
          "base_uri": "https://localhost:8080/"
        },
        "id": "ipsKVk3uQSaI",
        "outputId": "e67fe55e-c56e-45de-bc16-66ee102f724a"
      },
      "execution_count": null,
      "outputs": [
        {
          "output_type": "stream",
          "name": "stdout",
          "text": [
            "Gender\n",
            "Female    73500.000000\n",
            "Male      58333.333333\n",
            "Name: Salary, dtype: float64\n"
          ]
        }
      ]
    },
    {
      "cell_type": "markdown",
      "source": [
        "# Strategic Recommendations\n",
        "\n",
        "## 1. Improving Job Satisfaction for the Department with the Lowest Scores\n",
        "To enhance job satisfaction in the department with the lowest scores, I would consider the following strategies:\n",
        "\n",
        "- **Conduct Employee Surveys:** Gather feedback to understand specific concerns and needs. This allows employees to voice their opinions and feel valued.\n",
        "  \n",
        "- **Foster a Positive Work Environment:** Implement team-building activities and social events to strengthen relationships among team members.\n",
        "  \n",
        "- **Flexible Work Arrangements:** Offer options for remote work or flexible hours to improve work-life balance.\n",
        "  \n",
        "- **Recognition Programs:** Create a system for recognizing and rewarding employee contributions, which can boost morale and motivation.\n",
        "\n",
        "## 2. Training and Incentives for Improving Employee Performance\n",
        "To improve employee performance across departments, I would suggest:\n",
        "\n",
        "- **Targeted Training Programs:** Identify skills gaps and provide training workshops or courses in relevant areas (e.g., technical skills for engineers, customer service training for sales).\n",
        "  \n",
        "- **Mentorship Opportunities:** Pair employees with mentors who can provide guidance, support, and professional development.\n",
        "  \n",
        "- **Incentive Programs:** Implement performance-based incentives such as bonuses, additional time off, or career advancement opportunities to motivate employees to excel.\n",
        "  \n",
        "- **Regular Performance Reviews:** Establish a clear feedback mechanism that encourages continuous improvement and development.\n",
        "\n",
        "## 3. Addressing Gender Salary Differences\n",
        "\n",
        "The data shows a significant pay gap, with women earning `$73,500` on average compared to `$58,333.33` for men. To address this, a salary audit, transparent pay structures, and training on bias are crucial. Promoting transparency and monitoring pay by gender can ensure equity.\n"
      ],
      "metadata": {
        "id": "v1AQUlTD2ZxM"
      }
    },
    {
      "cell_type": "markdown",
      "source": [
        "**Visualizations**\n",
        "# 1. Salary Distribution by Department"
      ],
      "metadata": {
        "id": "1xZ86G-Q2yMF"
      }
    },
    {
      "cell_type": "code",
      "source": [
        "plt.figure(figsize=(10, 6))\n",
        "sns.barplot(x='Department', y='Salary', data=data, estimator='mean')\n",
        "plt.title('Average Salary by Department')\n",
        "plt.show()\n"
      ],
      "metadata": {
        "colab": {
          "base_uri": "https://localhost:8080/",
          "height": 564
        },
        "id": "jjSIUUX42MGK",
        "outputId": "ebdd37f1-f57e-4dfe-9a26-3e35a80f537a"
      },
      "execution_count": null,
      "outputs": [
        {
          "output_type": "display_data",
          "data": {
            "text/plain": [
              "<Figure size 1000x600 with 1 Axes>"
            ],
            "image/png": "[encoded data removed]"
          },
          "metadata": {}
        }
      ]
    },
    {
      "cell_type": "markdown",
      "source": [
        "# 2. Job Satisfaction by Country"
      ],
      "metadata": {
        "id": "9WhRKQ_D29Ti"
      }
    },
    {
      "cell_type": "code",
      "source": [
        "plt.figure(figsize=(10, 6))\n",
        "sns.barplot(x='Country', y='JobSatisfaction', data=data, estimator='mean')\n",
        "plt.title('Average Job Satisfaction by Country')\n",
        "plt.show()\n"
      ],
      "metadata": {
        "colab": {
          "base_uri": "https://localhost:8080/",
          "height": 564
        },
        "id": "tnZTX8C725jY",
        "outputId": "22369e8f-e183-40ac-c752-5a8f81aaff15"
      },
      "execution_count": null,
      "outputs": [
        {
          "output_type": "display_data",
          "data": {
            "text/plain": [
              "<Figure size 1000x600 with 1 Axes>"
            ],
            "image/png": "[encoded data removed]"
          },
          "metadata": {}
        }
      ]
    },
    {
      "cell_type": "code",
      "source": [
        "# Calculate average salary by gender\n",
        "avg_salary_by_gender = df.groupby('Gender')['Salary'].mean().reset_index()\n",
        "\n",
        "# Set the style for seaborn\n",
        "sns.set(style=\"whitegrid\")\n",
        "\n",
        "# Create a bar chart for average salary by gender\n",
        "plt.figure(figsize=(8, 6))\n",
        "sns.barplot(x='Gender', y='Salary', hue='Gender', data=avg_salary_by_gender, palette='pastel')\n",
        "plt.title('Average Salary by Gender')\n",
        "plt.xlabel('Gender')\n",
        "plt.ylabel('Average Salary')\n",
        "plt.ylim(0, max(avg_salary_by_gender['Salary']) + 10000)\n",
        "plt.show()"
      ],
      "metadata": {
        "id": "tk01xGTJ3NEU",
        "colab": {
          "base_uri": "https://localhost:8080/",
          "height": 573
        },
        "outputId": "53e0415c-f1d0-4f76-fc05-a075586001e8"
      },
      "execution_count": null,
      "outputs": [
        {
          "output_type": "display_data",
          "data": {
            "text/plain": [
              "<Figure size 800x600 with 1 Axes>"
            ],
            "image/png": "[encoded data removed]"
          },
          "metadata": {}
        }
      ]
    },
    {
      "cell_type": "code",
      "source": [],
      "metadata": {
        "id": "0PNA367egJT_"
      },
      "execution_count": null,
      "outputs": []
    }
  ]
}